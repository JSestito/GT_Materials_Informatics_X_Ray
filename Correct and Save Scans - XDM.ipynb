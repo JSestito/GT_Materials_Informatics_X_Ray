{
 "cells": [
  {
   "cell_type": "code",
   "execution_count": 1,
   "metadata": {
    "collapsed": false
   },
   "outputs": [],
   "source": [
    "# Imports\n",
    "import numpy as np\n",
    "import os\n",
    "from matplotlib import pyplot as plt\n",
    "import h5py as h5\n",
    "from PyXRIM.Corrections import Corrector\n",
    "from PyXRIM.misc import  bin_ndarray\n",
    "from functions import *\n",
    "%matplotlib notebook"
   ]
  },
  {
   "cell_type": "markdown",
   "metadata": {},
   "source": [
    "# Inputs"
   ]
  },
  {
   "cell_type": "code",
   "execution_count": null,
   "metadata": {
    "collapsed": true
   },
   "outputs": [],
   "source": [
    "rawDsetName = ['S026','S027','S028'] # name of raw dataset\n",
    "procName = ['S026_corrected','S027_corrected','S028_corrected'] # name of processed data\n",
    "procRefName = 'bkg_corrected' # reference name to append to rawData\n",
    "fname = 'D:\\Libraries\\Documents\\Materials Informatics\\LiCoO2_Al2O3_20160330.hdf5'"
   ]
  },
  {
   "cell_type": "code",
   "execution_count": 2,
   "metadata": {
    "collapsed": true
   },
   "outputs": [],
   "source": [
    "# open h5file\n",
    "f = h5.File(fname, mode='r') \n",
    "# Always open in read mode 'r'.\n",
    "# Until you're ready to write into the file. This is especially true if your OS is not Unix-based like Windows.\n",
    "rawg = f['20160330/Raw']\n",
    "procg = f['20160330/Process']\n",
    "meta = f['20160330/Meta']"
   ]
  },
  {
   "cell_type": "code",
   "execution_count": 3,
   "metadata": {
    "collapsed": false
   },
   "outputs": [
    {
     "name": "stdout",
     "output_type": "stream",
     "text": [
      "(2048, 2048)\n"
     ]
    }
   ],
   "source": [
    "metag = f['20160330/Meta']\n",
    "READ = metag['READ']\n",
    "DARK = metag['DARK']"
   ]
  },
  {
   "cell_type": "code",
   "execution_count": 4,
   "metadata": {
    "collapsed": true
   },
   "outputs": [],
   "source": [
    "# Let's bin the correction files\n",
    "read2x = bin_ndarray(READ[:], (1024,1024))\n",
    "dark2x = bin_ndarray(DARK[:], (1024,1024))"
   ]
  },
  {
   "cell_type": "code",
   "execution_count": 5,
   "metadata": {
    "collapsed": true
   },
   "outputs": [],
   "source": [
    "cr = Corrector()"
   ]
  },
  {
   "cell_type": "markdown",
   "metadata": {},
   "source": [
    "# Save Data Sets"
   ]
  },
  {
   "cell_type": "code",
   "execution_count": 8,
   "metadata": {
    "collapsed": false
   },
   "outputs": [
    {
     "ename": "RuntimeError",
     "evalue": "Unable to create link (Name already exists)",
     "output_type": "error",
     "traceback": [
      "\u001b[1;31m---------------------------------------------------------------------------\u001b[0m",
      "\u001b[1;31mRuntimeError\u001b[0m                              Traceback (most recent call last)",
      "\u001b[1;32m<ipython-input-8-c63ec2cf1a8e>\u001b[0m in \u001b[0;36m<module>\u001b[1;34m()\u001b[0m\n\u001b[0;32m     19\u001b[0m         \u001b[0mnewDsetName\u001b[0m \u001b[1;33m=\u001b[0m \u001b[0mprocName\u001b[0m\u001b[1;33m[\u001b[0m\u001b[0mi\u001b[0m\u001b[1;33m]\u001b[0m\u001b[1;33m\u001b[0m\u001b[0m\n\u001b[0;32m     20\u001b[0m         newDset = procg.create_dataset(newDsetName, data = procData , dtype =np.float64,\n\u001b[1;32m---> 21\u001b[1;33m                                     compression = 'lzf')\n\u001b[0m\u001b[0;32m     22\u001b[0m         \u001b[0mrawDset\u001b[0m\u001b[1;33m.\u001b[0m\u001b[0mattrs\u001b[0m\u001b[1;33m[\u001b[0m\u001b[0mprocRefName\u001b[0m\u001b[1;33m]\u001b[0m\u001b[1;33m=\u001b[0m\u001b[0mnewDset\u001b[0m\u001b[1;33m.\u001b[0m\u001b[0mref\u001b[0m\u001b[1;33m\u001b[0m\u001b[0m\n\u001b[0;32m     23\u001b[0m \u001b[1;33m\u001b[0m\u001b[0m\n",
      "\u001b[1;32mD:\\Users\\JSestito\\Anaconda2\\lib\\site-packages\\h5py\\_hl\\group.pyc\u001b[0m in \u001b[0;36mcreate_dataset\u001b[1;34m(self, name, shape, dtype, data, **kwds)\u001b[0m\n\u001b[0;32m    106\u001b[0m             \u001b[0mdset\u001b[0m \u001b[1;33m=\u001b[0m \u001b[0mdataset\u001b[0m\u001b[1;33m.\u001b[0m\u001b[0mDataset\u001b[0m\u001b[1;33m(\u001b[0m\u001b[0mdsid\u001b[0m\u001b[1;33m)\u001b[0m\u001b[1;33m\u001b[0m\u001b[0m\n\u001b[0;32m    107\u001b[0m             \u001b[1;32mif\u001b[0m \u001b[0mname\u001b[0m \u001b[1;32mis\u001b[0m \u001b[1;32mnot\u001b[0m \u001b[0mNone\u001b[0m\u001b[1;33m:\u001b[0m\u001b[1;33m\u001b[0m\u001b[0m\n\u001b[1;32m--> 108\u001b[1;33m                 \u001b[0mself\u001b[0m\u001b[1;33m[\u001b[0m\u001b[0mname\u001b[0m\u001b[1;33m]\u001b[0m \u001b[1;33m=\u001b[0m \u001b[0mdset\u001b[0m\u001b[1;33m\u001b[0m\u001b[0m\n\u001b[0m\u001b[0;32m    109\u001b[0m             \u001b[1;32mreturn\u001b[0m \u001b[0mdset\u001b[0m\u001b[1;33m\u001b[0m\u001b[0m\n\u001b[0;32m    110\u001b[0m \u001b[1;33m\u001b[0m\u001b[0m\n",
      "\u001b[1;32mh5py\\_objects.pyx\u001b[0m in \u001b[0;36mh5py._objects.with_phil.wrapper (C:\\aroot\\work\\h5py\\_objects.c:2587)\u001b[1;34m()\u001b[0m\n",
      "\u001b[1;32mh5py\\_objects.pyx\u001b[0m in \u001b[0;36mh5py._objects.with_phil.wrapper (C:\\aroot\\work\\h5py\\_objects.c:2546)\u001b[1;34m()\u001b[0m\n",
      "\u001b[1;32mD:\\Users\\JSestito\\Anaconda2\\lib\\site-packages\\h5py\\_hl\\group.pyc\u001b[0m in \u001b[0;36m__setitem__\u001b[1;34m(self, name, obj)\u001b[0m\n\u001b[0;32m    275\u001b[0m \u001b[1;33m\u001b[0m\u001b[0m\n\u001b[0;32m    276\u001b[0m         \u001b[1;32mif\u001b[0m \u001b[0misinstance\u001b[0m\u001b[1;33m(\u001b[0m\u001b[0mobj\u001b[0m\u001b[1;33m,\u001b[0m \u001b[0mHLObject\u001b[0m\u001b[1;33m)\u001b[0m\u001b[1;33m:\u001b[0m\u001b[1;33m\u001b[0m\u001b[0m\n\u001b[1;32m--> 277\u001b[1;33m             \u001b[0mh5o\u001b[0m\u001b[1;33m.\u001b[0m\u001b[0mlink\u001b[0m\u001b[1;33m(\u001b[0m\u001b[0mobj\u001b[0m\u001b[1;33m.\u001b[0m\u001b[0mid\u001b[0m\u001b[1;33m,\u001b[0m \u001b[0mself\u001b[0m\u001b[1;33m.\u001b[0m\u001b[0mid\u001b[0m\u001b[1;33m,\u001b[0m \u001b[0mname\u001b[0m\u001b[1;33m,\u001b[0m \u001b[0mlcpl\u001b[0m\u001b[1;33m=\u001b[0m\u001b[0mlcpl\u001b[0m\u001b[1;33m,\u001b[0m \u001b[0mlapl\u001b[0m\u001b[1;33m=\u001b[0m\u001b[0mself\u001b[0m\u001b[1;33m.\u001b[0m\u001b[0m_lapl\u001b[0m\u001b[1;33m)\u001b[0m\u001b[1;33m\u001b[0m\u001b[0m\n\u001b[0m\u001b[0;32m    278\u001b[0m \u001b[1;33m\u001b[0m\u001b[0m\n\u001b[0;32m    279\u001b[0m         \u001b[1;32melif\u001b[0m \u001b[0misinstance\u001b[0m\u001b[1;33m(\u001b[0m\u001b[0mobj\u001b[0m\u001b[1;33m,\u001b[0m \u001b[0mSoftLink\u001b[0m\u001b[1;33m)\u001b[0m\u001b[1;33m:\u001b[0m\u001b[1;33m\u001b[0m\u001b[0m\n",
      "\u001b[1;32mh5py\\_objects.pyx\u001b[0m in \u001b[0;36mh5py._objects.with_phil.wrapper (C:\\aroot\\work\\h5py\\_objects.c:2587)\u001b[1;34m()\u001b[0m\n",
      "\u001b[1;32mh5py\\_objects.pyx\u001b[0m in \u001b[0;36mh5py._objects.with_phil.wrapper (C:\\aroot\\work\\h5py\\_objects.c:2546)\u001b[1;34m()\u001b[0m\n",
      "\u001b[1;32mh5py\\h5o.pyx\u001b[0m in \u001b[0;36mh5py.h5o.link (C:\\aroot\\work\\h5py\\h5o.c:3584)\u001b[1;34m()\u001b[0m\n",
      "\u001b[1;31mRuntimeError\u001b[0m: Unable to create link (Name already exists)"
     ]
    }
   ],
   "source": [
    "i = 0\n",
    "for dataset in rawDsetName:\n",
    "    dset = rawg[dataset]\n",
    "    # Correcting for the ccd noise\n",
    "    cr.loadData(dset)\n",
    "    bkgData = cr.bkgSubtract(read2x,dark2x)\n",
    "    # normalization\n",
    "    normData = cr.normalize(monitor=None, trans = 'trans', use_processed=True)\n",
    "    \n",
    "    #Save the data\n",
    "    procData = normData # numpy array of processed data\n",
    "    f.close() # we need to close the h5file so we can open with read/write permissions\n",
    "    \n",
    "    # Write data into h5-file\n",
    "    with h5.File(fname, 'r+') as f:\n",
    "        rawg = f['20160330/Raw']\n",
    "        rawDset = rawg[rawDsetName[i]]\n",
    "        procg = f['20160330/Process']\n",
    "        newDsetName = procName[i]\n",
    "        ## NOTE: Change this to overwrite if something exists there already\n",
    "        newDset = procg.create_dataset(newDsetName, data = procData , dtype =np.float64,\n",
    "                                    compression = 'lzf')\n",
    "        rawDset.attrs[procRefName]=newDset.ref\n",
    "    \n",
    "    f.close()\n",
    "    #re-open data set in read format\n",
    "    f = h5.File(fname, mode='r') \n",
    "    # Always open in read mode 'r'.\n",
    "    # Until you're ready to write into the file. This is especially true if your OS is not Unix-based like Windows.\n",
    "    rawg = f['20160330/Raw']\n",
    "    procg = f['20160330/Process']\n",
    "    meta = f['20160330/Meta']\n",
    "    dset = rawg[dataset]\n",
    "    \n",
    "    # Averaging of spatial coordinates to ensure correction was done correctly\n",
    "    normInt = normData[:].mean(axis=(1,-1))\n",
    "    fig,ax = plt.subplots()\n",
    "    twotheta = dset.attrs['delta']\n",
    "    ax.plot(twotheta,normInt[:],marker = 'o', markerfacecolor='r')\n",
    "    ax.set_xlabel('$2\\\\theta$ (deg.)')\n",
    "    ax.set_ylabel('$\\log (Intensity) $ (arb. units)')\n",
    "    \n",
    "    i += 1  "
   ]
  },
  {
   "cell_type": "code",
   "execution_count": 5,
   "metadata": {
    "collapsed": false
   },
   "outputs": [],
   "source": [
    "f.close()"
   ]
  }
 ],
 "metadata": {
  "anaconda-cloud": {},
  "kernelspec": {
   "display_name": "Python [Root]",
   "language": "python",
   "name": "Python [Root]"
  },
  "language_info": {
   "codemirror_mode": {
    "name": "ipython",
    "version": 2
   },
   "file_extension": ".py",
   "mimetype": "text/x-python",
   "name": "python",
   "nbconvert_exporter": "python",
   "pygments_lexer": "ipython2",
   "version": "2.7.12"
  }
 },
 "nbformat": 4,
 "nbformat_minor": 0
}
