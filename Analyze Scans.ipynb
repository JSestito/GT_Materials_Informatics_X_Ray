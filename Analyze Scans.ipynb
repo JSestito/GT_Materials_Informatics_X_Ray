{
 "cells": [
  {
   "cell_type": "code",
   "execution_count": 1,
   "metadata": {
    "collapsed": true
   },
   "outputs": [],
   "source": [
    "# Imports\n",
    "import numpy as np\n",
    "import os\n",
    "from matplotlib import pyplot as plt\n",
    "import h5py as h5\n",
    "from PyXRIM.Corrections import Corrector\n",
    "from PyXRIM.misc import  bin_ndarray\n",
    "from functions import *\n",
    "from decompFunctions import *\n",
    "%matplotlib notebook"
   ]
  },
  {
   "cell_type": "code",
   "execution_count": 2,
   "metadata": {
    "collapsed": true
   },
   "outputs": [],
   "source": [
    "#Inputs\n",
    "fname = 'D:\\Libraries\\Documents\\Materials Informatics\\LiCoO2_Al2O3_20160330.hdf5'\n",
    "datasets = ['S026','S027','S028'] # name of raw dataset\n",
    "procRefName = 'bkg_corrected' # reference name to append to rawData"
   ]
  },
  {
   "cell_type": "code",
   "execution_count": 3,
   "metadata": {
    "collapsed": true
   },
   "outputs": [],
   "source": [
    "# open h5file\n",
    "f = h5.File(fname, mode='r') \n",
    "# Always open in read mode 'r'.\n",
    "# Until you're ready to write into the file. This is especially true if your OS is not Unix-based like Windows.\n",
    "rawg = f['20160330/Raw']\n",
    "procg = f['20160330/Process']\n",
    "meta = f['20160330/Meta']"
   ]
  },
  {
   "cell_type": "code",
   "execution_count": 4,
   "metadata": {
    "collapsed": false
   },
   "outputs": [],
   "source": [
    "roi1y=slice(420,460)\n",
    "roi1x=slice(500,580)\n",
    "#for name in datasets:\n",
    "#    rawDset = rawg[name]\n",
    "#           \n",
    "#    procDset = f[rawDset.attrs['bkg_corrected']]   \n",
    "#    print procDset.shape\n",
    "#    data = [procDset[:,roi1y,roi1x]+10]\n",
    "#    twotheta.extend(rawDset.attrs['delta'])\n",
    "\n",
    "name = 'S026'\n",
    "rawDset1 = rawg[name]\n",
    "procDset1 = f[rawDset1.attrs['bkg_corrected']]   \n",
    "name = 'S027'\n",
    "rawDset2 = rawg[name]\n",
    "procDset2 = f[rawDset2.attrs['bkg_corrected']]   \n",
    "name = 'S028'\n",
    "rawDset3 = rawg[name]\n",
    "procDset3 = f[rawDset3.attrs['bkg_corrected']]   \n",
    "\n",
    "\n",
    "data = [procDset1[:,roi1y,roi1x]+10,procDset2[:,roi1y,roi1x]+10,procDset3[:,roi1y,roi1x]+10]\n",
    "twotheta = [rawDset1.attrs['delta'],rawDset2.attrs['delta'],rawDset3.attrs['delta']]\n",
    "\n",
    "#fig,ax = plt.subplots()\n",
    "#ax.plot(twotheta,normInt,marker = 'o', markerfacecolor='r')\n",
    "#ax.set_xlabel('$2\\\\theta$ (deg.)')\n",
    "#ax.set_ylabel('$\\log (Intensity) $ (arb. units)')"
   ]
  },
  {
   "cell_type": "markdown",
   "metadata": {
    "collapsed": false
   },
   "source": [
    "dataList = data\n",
    "data2 = np.array([data2 for data2 in dataList])\n",
    "qsize = sum([l.shape[0] for l in dataList])\n",
    "xsize, ysize = dataList[0].shape[1], dataList[0].shape[-1]\n",
    "print data2.shape\n",
    "print qsize\n",
    "print ysize\n",
    "print xsize\n",
    "data2 = data2.reshape(qsize, ysize, xsize)"
   ]
  },
  {
   "cell_type": "code",
   "execution_count": 5,
   "metadata": {
    "collapsed": false
   },
   "outputs": [
    {
     "ename": "ValueError",
     "evalue": "total size of new array must be unchanged",
     "output_type": "error",
     "traceback": [
      "\u001b[1;31m---------------------------------------------------------------------------\u001b[0m",
      "\u001b[1;31mValueError\u001b[0m                                Traceback (most recent call last)",
      "\u001b[1;32m<ipython-input-5-a331b4471e11>\u001b[0m in \u001b[0;36m<module>\u001b[1;34m()\u001b[0m\n\u001b[0;32m      2\u001b[0m \u001b[0mxvals\u001b[0m\u001b[1;33m=\u001b[0m \u001b[0mtwotheta\u001b[0m\u001b[1;33m\u001b[0m\u001b[0m\n\u001b[0;32m      3\u001b[0m \u001b[1;31m# You should do one PCA with logscaling = True and another with logscaling = False to compare.\u001b[0m\u001b[1;33m\u001b[0m\u001b[1;33m\u001b[0m\u001b[0m\n\u001b[1;32m----> 4\u001b[1;33m \u001b[0mdata\u001b[0m \u001b[1;33m=\u001b[0m \u001b[0mpreping\u001b[0m\u001b[1;33m(\u001b[0m\u001b[0mdata\u001b[0m\u001b[1;33m,\u001b[0m \u001b[0mlogscaling\u001b[0m \u001b[1;33m=\u001b[0m \u001b[0mTrue\u001b[0m\u001b[1;33m,\u001b[0m \u001b[0mfeature_scaling\u001b[0m\u001b[1;33m=\u001b[0m\u001b[0mFalse\u001b[0m\u001b[1;33m,\u001b[0m \u001b[0mfeature_range\u001b[0m\u001b[1;33m=\u001b[0m\u001b[1;33m(\u001b[0m\u001b[1;36m0.1\u001b[0m\u001b[1;33m,\u001b[0m\u001b[1;36m1\u001b[0m\u001b[1;33m)\u001b[0m\u001b[1;33m)\u001b[0m\u001b[1;33m\u001b[0m\u001b[0m\n\u001b[0m\u001b[0;32m      5\u001b[0m \u001b[1;31m# set the number of principal components we want PCA to use. Try multiple numbers.\u001b[0m\u001b[1;33m\u001b[0m\u001b[1;33m\u001b[0m\u001b[0m\n\u001b[0;32m      6\u001b[0m \u001b[0mn_comp\u001b[0m \u001b[1;33m=\u001b[0m \u001b[1;36m4\u001b[0m\u001b[1;33m\u001b[0m\u001b[0m\n",
      "\u001b[1;32mD:\\Libraries\\Documents\\GitHub\\GT_Materials_Informatics_X_Ray\\decompFunctions.pyc\u001b[0m in \u001b[0;36mpreping\u001b[1;34m(dataList, logscaling, feature_scaling, **kwargs)\u001b[0m\n\u001b[0;32m     10\u001b[0m     \u001b[0mqsize\u001b[0m \u001b[1;33m=\u001b[0m \u001b[0msum\u001b[0m\u001b[1;33m(\u001b[0m\u001b[1;33m[\u001b[0m\u001b[0ml\u001b[0m\u001b[1;33m.\u001b[0m\u001b[0mshape\u001b[0m\u001b[1;33m[\u001b[0m\u001b[1;36m0\u001b[0m\u001b[1;33m]\u001b[0m \u001b[1;32mfor\u001b[0m \u001b[0ml\u001b[0m \u001b[1;32min\u001b[0m \u001b[0mdataList\u001b[0m\u001b[1;33m]\u001b[0m\u001b[1;33m)\u001b[0m\u001b[1;33m\u001b[0m\u001b[0m\n\u001b[0;32m     11\u001b[0m     \u001b[0mxsize\u001b[0m\u001b[1;33m,\u001b[0m \u001b[0mysize\u001b[0m \u001b[1;33m=\u001b[0m \u001b[0mdataList\u001b[0m\u001b[1;33m[\u001b[0m\u001b[1;36m0\u001b[0m\u001b[1;33m]\u001b[0m\u001b[1;33m.\u001b[0m\u001b[0mshape\u001b[0m\u001b[1;33m[\u001b[0m\u001b[1;36m1\u001b[0m\u001b[1;33m]\u001b[0m\u001b[1;33m,\u001b[0m \u001b[0mdataList\u001b[0m\u001b[1;33m[\u001b[0m\u001b[1;36m0\u001b[0m\u001b[1;33m]\u001b[0m\u001b[1;33m.\u001b[0m\u001b[0mshape\u001b[0m\u001b[1;33m[\u001b[0m\u001b[1;33m-\u001b[0m\u001b[1;36m1\u001b[0m\u001b[1;33m]\u001b[0m\u001b[1;33m\u001b[0m\u001b[0m\n\u001b[1;32m---> 12\u001b[1;33m     \u001b[0mdata\u001b[0m \u001b[1;33m=\u001b[0m \u001b[0mdata\u001b[0m\u001b[1;33m.\u001b[0m\u001b[0mreshape\u001b[0m\u001b[1;33m(\u001b[0m\u001b[0mqsize\u001b[0m\u001b[1;33m,\u001b[0m \u001b[0mysize\u001b[0m\u001b[1;33m,\u001b[0m \u001b[0mxsize\u001b[0m\u001b[1;33m)\u001b[0m\u001b[1;33m\u001b[0m\u001b[0m\n\u001b[0m\u001b[0;32m     13\u001b[0m \u001b[1;31m#     logData = np.log10(data)\u001b[0m\u001b[1;33m\u001b[0m\u001b[1;33m\u001b[0m\u001b[0m\n\u001b[0;32m     14\u001b[0m     \u001b[1;31m#logData = data\u001b[0m\u001b[1;33m\u001b[0m\u001b[1;33m\u001b[0m\u001b[0m\n",
      "\u001b[1;31mValueError\u001b[0m: total size of new array must be unchanged"
     ]
    }
   ],
   "source": [
    "# PCA\n",
    "xvals= twotheta\n",
    "# You should do one PCA with logscaling = True and another with logscaling = False to compare.\n",
    "data = preping(data, logscaling = True, feature_scaling=False, feature_range=(0.1,1))\n",
    "# set the number of principal components we want PCA to use. Try multiple numbers.\n",
    "n_comp = 4\n",
    "projec, eigenvec, var_ratio, pca = doPCA(data, n_comp, xvals=xvals,xlabel='$2\\theta$',cmap='rainbow')"
   ]
  },
  {
   "cell_type": "code",
   "execution_count": null,
   "metadata": {
    "collapsed": false
   },
   "outputs": [],
   "source": [
    "# Same as before, except now use NMF\n",
    "n_comp = 4\n",
    "projec, eigenvec, nmf = doNMF(data, 4, xvals=xvals,xlabel='L',cmap='rainbow')"
   ]
  },
  {
   "cell_type": "code",
   "execution_count": null,
   "metadata": {
    "collapsed": true
   },
   "outputs": [],
   "source": []
  }
 ],
 "metadata": {
  "anaconda-cloud": {},
  "kernelspec": {
   "display_name": "Python [Root]",
   "language": "python",
   "name": "Python [Root]"
  },
  "language_info": {
   "codemirror_mode": {
    "name": "ipython",
    "version": 2
   },
   "file_extension": ".py",
   "mimetype": "text/x-python",
   "name": "python",
   "nbconvert_exporter": "python",
   "pygments_lexer": "ipython2",
   "version": "2.7.12"
  }
 },
 "nbformat": 4,
 "nbformat_minor": 0
}
